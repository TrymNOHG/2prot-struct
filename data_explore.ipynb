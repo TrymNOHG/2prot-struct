{
 "cells": [
  {
   "cell_type": "code",
   "execution_count": 13,
   "metadata": {},
   "outputs": [
    {
     "data": {
      "text/plain": [
       "Isolation Source\n",
       "soil                                   2364\n",
       "blood                                  1805\n",
       "feces                                  1451\n",
       "sputum                                 1092\n",
       "urine                                   979\n",
       "                                       ... \n",
       "environmental114                          1\n",
       "environmental62                           1\n",
       "environmental24                           1\n",
       "environmental33                           1\n",
       "seawater collected from a tide pool       1\n",
       "Name: count, Length: 10578, dtype: int64"
      ]
     },
     "execution_count": 13,
     "metadata": {},
     "output_type": "execute_result"
    }
   ],
   "source": [
    "import pandas as pd\n",
    "\n",
    "df = pd.read_csv(\"BVBRC_genome.csv\", low_memory=False)\n",
    "df = df[['Genome Name', 'Isolation Source']]\n",
    "counts = df['Isolation Source'].value_counts()\n",
    "counts"
   ]
  },
  {
   "cell_type": "code",
   "execution_count": 17,
   "metadata": {},
   "outputs": [
    {
     "data": {
      "text/plain": [
       "Isolation Source\n",
       "soil        2364\n",
       "blood       1805\n",
       "feces       1451\n",
       "sputum      1092\n",
       "urine        979\n",
       "stool        619\n",
       "food         453\n",
       "Soil         439\n",
       "water        379\n",
       "sediment     288\n",
       "Name: count, dtype: int64"
      ]
     },
     "execution_count": 17,
     "metadata": {},
     "output_type": "execute_result"
    }
   ],
   "source": [
    "num_instance_threshold = 50\n",
    "df = df[df['Isolation Source'].isin(counts[counts >= num_instance_threshold].index)]\n",
    "df['Isolation Source'].value_counts()[:10]"
   ]
  },
  {
   "cell_type": "code",
   "execution_count": null,
   "metadata": {},
   "outputs": [],
   "source": []
  }
 ],
 "metadata": {
  "kernelspec": {
   "display_name": "venv",
   "language": "python",
   "name": "python3"
  },
  "language_info": {
   "codemirror_mode": {
    "name": "ipython",
    "version": 3
   },
   "file_extension": ".py",
   "mimetype": "text/x-python",
   "name": "python",
   "nbconvert_exporter": "python",
   "pygments_lexer": "ipython3",
   "version": "3.8.17"
  }
 },
 "nbformat": 4,
 "nbformat_minor": 2
}
