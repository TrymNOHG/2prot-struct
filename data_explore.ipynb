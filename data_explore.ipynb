{
 "cells": [
  {
   "cell_type": "code",
   "execution_count": 2,
   "metadata": {},
   "outputs": [
    {
     "data": {
      "text/plain": [
       "Isolation Source\n",
       "soil                                   2364\n",
       "blood                                  1805\n",
       "feces                                  1451\n",
       "sputum                                 1092\n",
       "urine                                   979\n",
       "                                       ... \n",
       "environmental114                          1\n",
       "environmental62                           1\n",
       "environmental24                           1\n",
       "environmental33                           1\n",
       "seawater collected from a tide pool       1\n",
       "Name: count, Length: 10578, dtype: int64"
      ]
     },
     "execution_count": 2,
     "metadata": {},
     "output_type": "execute_result"
    }
   ],
   "source": [
    "import pandas as pd\n",
    "\n",
    "df = pd.read_csv(\"BVBRC_genome.csv\", low_memory=False)\n",
    "df = df[['Genome Name', 'Isolation Source']]\n",
    "counts = df['Isolation Source'].value_counts()\n",
    "counts"
   ]
  },
  {
   "cell_type": "code",
   "execution_count": 17,
   "metadata": {},
   "outputs": [
    {
     "data": {
      "text/plain": [
       "Isolation Source\n",
       "soil        2364\n",
       "blood       1805\n",
       "feces       1451\n",
       "sputum      1092\n",
       "urine        979\n",
       "stool        619\n",
       "food         453\n",
       "Soil         439\n",
       "water        379\n",
       "sediment     288\n",
       "Name: count, dtype: int64"
      ]
     },
     "execution_count": 17,
     "metadata": {},
     "output_type": "execute_result"
    }
   ],
   "source": [
    "num_instance_threshold = 50\n",
    "df = df[df['Isolation Source'].isin(counts[counts >= num_instance_threshold].index)]\n",
    "df['Isolation Source'].value_counts()[:10]"
   ]
  },
  {
   "cell_type": "code",
   "execution_count": 3,
   "metadata": {},
   "outputs": [],
   "source": [
    "df = pd.read_csv(\"BVBRC_genome2.csv\", low_memory=False)"
   ]
  },
  {
   "cell_type": "code",
   "execution_count": 13,
   "metadata": {},
   "outputs": [
    {
     "data": {
      "text/html": [
       "<div>\n",
       "<style scoped>\n",
       "    .dataframe tbody tr th:only-of-type {\n",
       "        vertical-align: middle;\n",
       "    }\n",
       "\n",
       "    .dataframe tbody tr th {\n",
       "        vertical-align: top;\n",
       "    }\n",
       "\n",
       "    .dataframe thead th {\n",
       "        text-align: right;\n",
       "    }\n",
       "</style>\n",
       "<table border=\"1\" class=\"dataframe\">\n",
       "  <thead>\n",
       "    <tr style=\"text-align: right;\">\n",
       "      <th></th>\n",
       "      <th>Genome ID</th>\n",
       "      <th>Genome Name</th>\n",
       "    </tr>\n",
       "  </thead>\n",
       "  <tbody>\n",
       "    <tr>\n",
       "      <th>0</th>\n",
       "      <td>100233.292</td>\n",
       "      <td>uncultured Planctomycetaceae bacterium MFD0008...</td>\n",
       "    </tr>\n",
       "    <tr>\n",
       "      <th>1</th>\n",
       "      <td>100233.295</td>\n",
       "      <td>uncultured Planctomycetaceae bacterium MFD0960...</td>\n",
       "    </tr>\n",
       "    <tr>\n",
       "      <th>2</th>\n",
       "      <td>100233.296</td>\n",
       "      <td>uncultured Planctomycetaceae bacterium MFD0073...</td>\n",
       "    </tr>\n",
       "    <tr>\n",
       "      <th>3</th>\n",
       "      <td>100233.300</td>\n",
       "      <td>uncultured Planctomycetaceae bacterium MFD0949...</td>\n",
       "    </tr>\n",
       "    <tr>\n",
       "      <th>4</th>\n",
       "      <td>1002689.300</td>\n",
       "      <td>Occallatibacter riparius strain DSM 25168</td>\n",
       "    </tr>\n",
       "    <tr>\n",
       "      <th>...</th>\n",
       "      <td>...</td>\n",
       "      <td>...</td>\n",
       "    </tr>\n",
       "    <tr>\n",
       "      <th>4398</th>\n",
       "      <td>96468.300</td>\n",
       "      <td>Nocardia vinacea NBC 01743</td>\n",
       "    </tr>\n",
       "    <tr>\n",
       "      <th>4399</th>\n",
       "      <td>985043.700</td>\n",
       "      <td>Polaribacter sejongensis strain KCTC 23670</td>\n",
       "    </tr>\n",
       "    <tr>\n",
       "      <th>4400</th>\n",
       "      <td>986.370</td>\n",
       "      <td>Flavobacterium johnsoniae G16</td>\n",
       "    </tr>\n",
       "    <tr>\n",
       "      <th>4401</th>\n",
       "      <td>991905.300</td>\n",
       "      <td>Polymorphum gilvum SL003B-26A1</td>\n",
       "    </tr>\n",
       "    <tr>\n",
       "      <th>4402</th>\n",
       "      <td>99653.500</td>\n",
       "      <td>Rhodococcus koreensis strain R85</td>\n",
       "    </tr>\n",
       "  </tbody>\n",
       "</table>\n",
       "<p>4403 rows × 2 columns</p>\n",
       "</div>"
      ],
      "text/plain": [
       "        Genome ID                                        Genome Name\n",
       "0      100233.292  uncultured Planctomycetaceae bacterium MFD0008...\n",
       "1      100233.295  uncultured Planctomycetaceae bacterium MFD0960...\n",
       "2      100233.296  uncultured Planctomycetaceae bacterium MFD0073...\n",
       "3      100233.300  uncultured Planctomycetaceae bacterium MFD0949...\n",
       "4     1002689.300          Occallatibacter riparius strain DSM 25168\n",
       "...           ...                                                ...\n",
       "4398    96468.300                         Nocardia vinacea NBC 01743\n",
       "4399   985043.700         Polaribacter sejongensis strain KCTC 23670\n",
       "4400      986.370                      Flavobacterium johnsoniae G16\n",
       "4401   991905.300                     Polymorphum gilvum SL003B-26A1\n",
       "4402    99653.500                   Rhodococcus koreensis strain R85\n",
       "\n",
       "[4403 rows x 2 columns]"
      ]
     },
     "execution_count": 13,
     "metadata": {},
     "output_type": "execute_result"
    }
   ],
   "source": [
    "df[['Genome ID', 'Genome Name']]\n",
    "# NCBI taxon ID\n",
    "# Genome Name\n",
    "# Genome Sequence\n",
    "# Isolation Source\n",
    "\n",
    "# Make into CSV\n",
    "\n",
    "# Pre-process\n",
    "# Encoding of classes"
   ]
  },
  {
   "cell_type": "code",
   "execution_count": null,
   "metadata": {},
   "outputs": [
    {
     "name": "stdout",
     "output_type": "stream",
     "text": [
      "Request successful!\n",
      "Genome sequence saved to genome_sequence.fasta\n"
     ]
    }
   ],
   "source": [
    "import requests\n",
    "\n",
    "def fetch_sequence_FASTA(genome_id):\n",
    "    url = f\"https://www.bv-brc.org/api-for-website/genome_feature/?in(genome_id,({genome_id}))&limit(25000)\"\n",
    "\n",
    "    headers = {\n",
    "        \"Accept\": \"application/dna+fasta\"\n",
    "    }\n",
    "\n",
    "    response = requests.get(url, headers=headers)\n",
    "\n",
    "    if response.status_code == 200:\n",
    "        print(\"Request successful!\")\n",
    "        return response.content  \n",
    "    else:\n",
    "        print(f\"Request failed with status code {response.status_code}: {response.text}\")\n",
    "        return None\n",
    "\n",
    "\n",
    "if __name__ == \"__main__\":\n",
    "    result = fetch_sequence_FASTA(\"768556.226\")\n",
    "    if result:\n",
    "        with open(\"./genome_sequence.txt\", \"wb\") as file:\n",
    "            file.write(result)\n",
    "        print(\"Genome sequence saved to genome_sequence.fasta\")\n"
   ]
  },
  {
   "cell_type": "code",
   "execution_count": null,
   "metadata": {},
   "outputs": [],
   "source": [
    "# for genome_id in df['Genome ID']:\n",
    "#     fetch_sequence_FASTA(genome_id)"
   ]
  }
 ],
 "metadata": {
  "kernelspec": {
   "display_name": "venv",
   "language": "python",
   "name": "python3"
  },
  "language_info": {
   "codemirror_mode": {
    "name": "ipython",
    "version": 3
   },
   "file_extension": ".py",
   "mimetype": "text/x-python",
   "name": "python",
   "nbconvert_exporter": "python",
   "pygments_lexer": "ipython3",
   "version": "3.8.17"
  }
 },
 "nbformat": 4,
 "nbformat_minor": 2
}
