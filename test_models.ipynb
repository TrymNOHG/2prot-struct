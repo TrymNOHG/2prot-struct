{
 "cells": [
  {
   "cell_type": "code",
   "execution_count": 24,
   "metadata": {},
   "outputs": [],
   "source": [
    "from collections import defaultdict\n",
    "import random\n",
    "\n",
    "random.seed(42)\n",
    "\n",
    "class StochasticModel:\n",
    "    def __init__(self):\n",
    "        self.probs = None\n",
    "\n",
    "    def fit(self, y):\n",
    "        self.probs = defaultdict(int)\n",
    "        sum_vals = 0\n",
    "        for input in y:\n",
    "            sum_vals += len(input)\n",
    "            for dssp in input:\n",
    "                self.probs[dssp.upper()] += 1\n",
    "        for keys in self.probs:\n",
    "            self.probs[keys] /= sum_vals\n",
    "\n",
    "    def predict(self, X):\n",
    "        if self.probs is None:\n",
    "            raise ValueError(\"Model must be fit before evaluation.\")\n",
    "        predictions = []\n",
    "        for aa in X:\n",
    "            pred = []\n",
    "            for residue in aa:\n",
    "                rand = random.random()\n",
    "                proba = 0\n",
    "                for dssp in self.probs:\n",
    "                    proba += self.probs[dssp]\n",
    "                    if rand < proba:\n",
    "                        pred.append(dssp)\n",
    "                        break\n",
    "            predictions.append(\"\".join(pred))\n",
    "        return predictions\n",
    "\n",
    "\n",
    "    def evaluate(self, X, y):\n",
    "        if self.probs is None:\n",
    "            raise ValueError(\"Model must be fit before evaluation.\")\n",
    "        predictions = self.predict(X)\n",
    "        correct = 0\n",
    "        total = 0\n",
    "        i = 0\n",
    "        for index, value in y.items():\n",
    "            for (j, val) in enumerate(value):\n",
    "                correct += 1 if predictions[i][j] == val else 0\n",
    "                total += 1\n",
    "            i += 1\n",
    "        print(f\"Accuracy of the model is {correct/total}\")\n",
    "        return correct/total\n"
   ]
  },
  {
   "cell_type": "code",
   "execution_count": 27,
   "metadata": {},
   "outputs": [
    {
     "name": "stdout",
     "output_type": "stream",
     "text": [
      "17805    CEEEEEEEECHHHHTTSSCCCHHHHHHHHTTTBSEECCEEEEECSC...\n",
      "8778     CEEEEECSSCCSCCCCCCSEEEEETHHHHHHHHTTCCCSEEEECCT...\n",
      "2549     CCHHHHHHHHHHHHTCCHHHHHHHHHHHHHHHHHHHHTTCCEEETT...\n",
      "3106              CCCCCCCCCHHHHHHHHHHHHHHHHTCCCCTHHHHHHHCC\n",
      "251      CCCCCCHHHHHHHHHTCSCHHHHHHHHHHHHTCCEETTTTEECCTT...\n",
      "                               ...                        \n",
      "10277    CCSCHHHHHHHHHHHHTCEEEEEETTSCEEEEEEEEECSSEEEEEC...\n",
      "16593    CEEECSSEEEEEEEEEEECSSEEEEEEEETTTCCEEEEEEECSGGG...\n",
      "293      CEEEEEEECCSSCCSSSCHHHHHHHHHHHHHHHHCSCCEEETTEEE...\n",
      "9395     CCCEEEEEEEEESSCHHHHHHHHHCGGGGGGTSTTEEEEEESSSSS...\n",
      "9614     CBCCEEEESCHHHHHHHHHHHHHHHTTTSSCCCCCEEPPPEEEEEE...\n",
      "Name: dssp8, Length: 3747, dtype: object\n",
      "Accuracy of the model is 0.2104687140091265\n",
      "0.2104687140091265\n"
     ]
    }
   ],
   "source": [
    "import pandas as pd\n",
    "from sklearn.model_selection import train_test_split\n",
    "\n",
    "\n",
    "df = pd.read_csv(\"./data/data.csv\")\n",
    "\n",
    "\n",
    "y = df['dssp8']\n",
    "X_original = df['input']\n",
    "X_train, X_test, y_train, y_test = train_test_split(X_original, y, test_size=0.2, random_state=42)\n",
    "\n",
    "# from models.simple_window_model import TreeWindowModel\n",
    "# model = TreeWindowModel(window_length=17)\n",
    "model = StochasticModel()\n",
    "# model.fit(X_train, y_train)\n",
    "model.fit(y_train)\n",
    "\n",
    "print(y_test)\n",
    "print(model.evaluate(X_test, y_test))\n"
   ]
  },
  {
   "cell_type": "code",
   "execution_count": 1,
   "metadata": {},
   "outputs": [
    {
     "name": "stdout",
     "output_type": "stream",
     "text": [
      "0.3602604245410122\n",
      "0.23869795134725352\n",
      "0.34004449640062323\n",
      "0.32241592641628986\n"
     ]
    }
   ],
   "source": [
    "import pandas as pd\n",
    "from sklearn.model_selection import train_test_split\n",
    "from models.naive_bayes_model import NaiveBayes\n",
    "\n",
    "df = pd.read_csv(\"./data/data.csv\")\n",
    "\n",
    "\n",
    "y = df['dssp8']\n",
    "X_original = df['input']\n",
    "X_train, X_test, y_train, y_test = train_test_split(X_original, y, test_size=0.2, random_state=42)\n",
    "\n",
    "model = NaiveBayes()\n",
    "\n",
    "model.fit(X_train, y_train)\n",
    "print(model.evaluate(X_test, y_test))\n",
    "print(model.evaluate_rand(X_test, y_test))\n",
    "print(model.evaluate_bayes(X_test, y_test))\n",
    "print(model.evaluate_bayes_rand(X_test, y_test))"
   ]
  },
  {
   "cell_type": "code",
   "execution_count": null,
   "metadata": {},
   "outputs": [],
   "source": []
  }
 ],
 "metadata": {
  "kernelspec": {
   "display_name": "venv",
   "language": "python",
   "name": "python3"
  },
  "language_info": {
   "codemirror_mode": {
    "name": "ipython",
    "version": 3
   },
   "file_extension": ".py",
   "mimetype": "text/x-python",
   "name": "python",
   "nbconvert_exporter": "python",
   "pygments_lexer": "ipython3",
   "version": "3.11.11"
  }
 },
 "nbformat": 4,
 "nbformat_minor": 2
}
