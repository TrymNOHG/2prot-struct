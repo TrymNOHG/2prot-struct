{
 "cells": [
  {
   "cell_type": "code",
   "execution_count": 24,
   "metadata": {},
   "outputs": [],
   "source": [
    "from collections import defaultdict\n",
    "import random\n",
    "\n",
    "random.seed(42)\n",
    "\n",
    "class StochasticModel:\n",
    "    def __init__(self):\n",
    "        self.probs = None\n",
    "\n",
    "    def fit(self, y):\n",
    "        self.probs = defaultdict(int)\n",
    "        sum_vals = 0\n",
    "        for input in y:\n",
    "            sum_vals += len(input)\n",
    "            for dssp in input:\n",
    "                self.probs[dssp.upper()] += 1\n",
    "        for keys in self.probs:\n",
    "            self.probs[keys] /= sum_vals\n",
    "\n",
    "    def predict(self, X):\n",
    "        if self.probs is None:\n",
    "            raise ValueError(\"Model must be fit before evaluation.\")\n",
    "        predictions = []\n",
    "        for aa in X:\n",
    "            pred = []\n",
    "            for residue in aa:\n",
    "                rand = random.random()\n",
    "                proba = 0\n",
    "                for dssp in self.probs:\n",
    "                    proba += self.probs[dssp]\n",
    "                    if rand < proba:\n",
    "                        pred.append(dssp)\n",
    "                        break\n",
    "            predictions.append(\"\".join(pred))\n",
    "        return predictions\n",
    "\n",
    "\n",
    "    def evaluate(self, X, y):\n",
    "        if self.probs is None:\n",
    "            raise ValueError(\"Model must be fit before evaluation.\")\n",
    "        predictions = self.predict(X)\n",
    "        correct = 0\n",
    "        total = 0\n",
    "        i = 0\n",
    "        for index, value in y.items():\n",
    "            for (j, val) in enumerate(value):\n",
    "                correct += 1 if predictions[i][j] == val else 0\n",
    "                total += 1\n",
    "            i += 1\n",
    "        print(f\"Accuracy of the model is {correct/total}\")\n",
    "        return correct/total\n"
   ]
  },
  {
   "cell_type": "code",
   "execution_count": 27,
   "metadata": {},
   "outputs": [
    {
     "name": "stdout",
     "output_type": "stream",
     "text": [
      "17805    CEEEEEEEECHHHHTTSSCCCHHHHHHHHTTTBSEECCEEEEECSC...\n",
      "8778     CEEEEECSSCCSCCCCCCSEEEEETHHHHHHHHTTCCCSEEEECCT...\n",
      "2549     CCHHHHHHHHHHHHTCCHHHHHHHHHHHHHHHHHHHHTTCCEEETT...\n",
      "3106              CCCCCCCCCHHHHHHHHHHHHHHHHTCCCCTHHHHHHHCC\n",
      "251      CCCCCCHHHHHHHHHTCSCHHHHHHHHHHHHTCCEETTTTEECCTT...\n",
      "                               ...                        \n",
      "10277    CCSCHHHHHHHHHHHHTCEEEEEETTSCEEEEEEEEECSSEEEEEC...\n",
      "16593    CEEECSSEEEEEEEEEEECSSEEEEEEEETTTCCEEEEEEECSGGG...\n",
      "293      CEEEEEEECCSSCCSSSCHHHHHHHHHHHHHHHHCSCCEEETTEEE...\n",
      "9395     CCCEEEEEEEEESSCHHHHHHHHHCGGGGGGTSTTEEEEEESSSSS...\n",
      "9614     CBCCEEEESCHHHHHHHHHHHHHHHTTTSSCCCCCEEPPPEEEEEE...\n",
      "Name: dssp8, Length: 3747, dtype: object\n",
      "Accuracy of the model is 0.2104687140091265\n",
      "0.2104687140091265\n"
     ]
    }
   ],
   "source": [
    "import pandas as pd\n",
    "from sklearn.model_selection import train_test_split\n",
    "\n",
    "\n",
    "df = pd.read_csv(\"./data/data.csv\")\n",
    "\n",
    "\n",
    "y = df['dssp8']\n",
    "X_original = df['input']\n",
    "X_train, X_test, y_train, y_test = train_test_split(X_original, y, test_size=0.2, random_state=42)\n",
    "\n",
    "# from models.simple_window_model import TreeWindowModel\n",
    "# model = TreeWindowModel(window_length=17)\n",
    "model = StochasticModel()\n",
    "# model.fit(X_train, y_train)\n",
    "model.fit(y_train)\n",
    "\n",
    "print(y_test)\n",
    "print(model.evaluate(X_test, y_test))\n"
   ]
  },
  {
   "cell_type": "code",
   "execution_count": 4,
   "metadata": {},
   "outputs": [
    {
     "ename": "KeyError",
     "evalue": "'MERAEILGVGTELLYGETLDTNTAEIARSLKPYALKVERTLRVADEVAPLAREVEEAFARARLVVLSGGLGPTPDDVTREAVALALGEPLELDEAVLGEIEAFFRARGRAMPEANRKQAMRIPSATWLKNPRGTAPGWWVRKGGKDLVLLPGPPPEWRPMWQEVLPRLGLPRRPYAERVLKTWGIGESEIVERLGPLFVREEEVEVGTYPKVHGVEVVVRGREDRVAELAERIKKKLLKEVWGEGEMTLAEAVKRRMEREGATLSTMESLTGGLLGAEITRVPGASRFYLGGVVSYSVGAKARFGVPQDLLSRTVSAETARAMAEAARSLFGSTYALATTGVAGPDPLEGEPPGTVYVALAGPTGAEVRRYRFPGDRETVRLRSVYAALALLVT'",
     "output_type": "error",
     "traceback": [
      "\u001b[31m---------------------------------------------------------------------------\u001b[39m",
      "\u001b[31mKeyError\u001b[39m                                  Traceback (most recent call last)",
      "\u001b[36mCell\u001b[39m\u001b[36m \u001b[39m\u001b[32mIn[4]\u001b[39m\u001b[32m, line 16\u001b[39m\n\u001b[32m     12\u001b[39m model = NaiveBayesModel()\n\u001b[32m     14\u001b[39m model.fit(X_train, y_train)\n\u001b[32m---> \u001b[39m\u001b[32m16\u001b[39m y_pred = \u001b[43mmodel\u001b[49m\u001b[43m.\u001b[49m\u001b[43mpredict\u001b[49m\u001b[43m(\u001b[49m\u001b[43mX_test\u001b[49m\u001b[43m)\u001b[49m\n\u001b[32m     18\u001b[39m \u001b[38;5;66;03m# print(model.evaluate(X_test, y_test))\u001b[39;00m\n\u001b[32m     19\u001b[39m \u001b[38;5;66;03m# print(model.evaluate_rand(X_test, y_test))\u001b[39;00m\n\u001b[32m     20\u001b[39m \u001b[38;5;66;03m# print(model.evaluate_bayes(X_test, y_test))\u001b[39;00m\n\u001b[32m     21\u001b[39m \u001b[38;5;66;03m# print(model.evaluate_bayes_rand(X_test, y_test))\u001b[39;00m\n",
      "\u001b[36mFile \u001b[39m\u001b[32m~/Documents/school/mol3022/2prot-struct/models/naive_bayes_model.py:44\u001b[39m, in \u001b[36mNaiveBayesModel.predict\u001b[39m\u001b[34m(self, X)\u001b[39m\n\u001b[32m     42\u001b[39m vals = []\n\u001b[32m     43\u001b[39m \u001b[38;5;28;01mfor\u001b[39;00m x \u001b[38;5;129;01min\u001b[39;00m X:\n\u001b[32m---> \u001b[39m\u001b[32m44\u001b[39m     probs = np.array(\u001b[38;5;28;43mself\u001b[39;49m\u001b[43m.\u001b[49m\u001b[43mprobs\u001b[49m\u001b[43m[\u001b[49m\u001b[43mx\u001b[49m\u001b[43m.\u001b[49m\u001b[43mupper\u001b[49m\u001b[43m(\u001b[49m\u001b[43m)\u001b[49m\u001b[43m]\u001b[49m)\n\u001b[32m     45\u001b[39m     vals.append(\u001b[38;5;28mself\u001b[39m.classes[np.argmax(probs)])\n\u001b[32m     46\u001b[39m \u001b[38;5;28;01mreturn\u001b[39;00m \u001b[33m\"\u001b[39m\u001b[33m\"\u001b[39m.join(vals)\n",
      "\u001b[31mKeyError\u001b[39m: 'MERAEILGVGTELLYGETLDTNTAEIARSLKPYALKVERTLRVADEVAPLAREVEEAFARARLVVLSGGLGPTPDDVTREAVALALGEPLELDEAVLGEIEAFFRARGRAMPEANRKQAMRIPSATWLKNPRGTAPGWWVRKGGKDLVLLPGPPPEWRPMWQEVLPRLGLPRRPYAERVLKTWGIGESEIVERLGPLFVREEEVEVGTYPKVHGVEVVVRGREDRVAELAERIKKKLLKEVWGEGEMTLAEAVKRRMEREGATLSTMESLTGGLLGAEITRVPGASRFYLGGVVSYSVGAKARFGVPQDLLSRTVSAETARAMAEAARSLFGSTYALATTGVAGPDPLEGEPPGTVYVALAGPTGAEVRRYRFPGDRETVRLRSVYAALALLVT'"
     ]
    }
   ],
   "source": [
    "import pandas as pd\n",
    "from sklearn.model_selection import train_test_split\n",
    "from models.naive_bayes_model import NaiveBayesModel\n",
    "\n",
    "df = pd.read_csv(\"./data/data.csv\")\n",
    "\n",
    "\n",
    "y = df['dssp8']\n",
    "X_original = df['input']\n",
    "X_train, X_test, y_train, y_test = train_test_split(X_original, y, test_size=0.2, random_state=42)\n",
    "\n",
    "model = NaiveBayesModel()\n",
    "\n",
    "model.fit(X_train, y_train)\n",
    "\n",
    "y_pred = model.predict(X_test)\n",
    "\n",
    "# print(model.evaluate(X_test, y_test))\n",
    "# print(model.evaluate_rand(X_test, y_test))\n",
    "# print(model.evaluate_bayes(X_test, y_test))\n",
    "# print(model.evaluate_bayes_rand(X_test, y_test))"
   ]
  },
  {
   "cell_type": "code",
   "execution_count": null,
   "metadata": {},
   "outputs": [],
   "source": []
  }
 ],
 "metadata": {
  "kernelspec": {
   "display_name": "2prot_venv",
   "language": "python",
   "name": "python3"
  },
  "language_info": {
   "codemirror_mode": {
    "name": "ipython",
    "version": 3
   },
   "file_extension": ".py",
   "mimetype": "text/x-python",
   "name": "python",
   "nbconvert_exporter": "python",
   "pygments_lexer": "ipython3",
   "version": "3.13.2"
  }
 },
 "nbformat": 4,
 "nbformat_minor": 2
}
