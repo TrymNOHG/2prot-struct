{
 "cells": [
  {
   "cell_type": "code",
   "id": "initial_id",
   "metadata": {
    "collapsed": true,
    "ExecuteTime": {
     "end_time": "2025-03-07T10:18:31.184155Z",
     "start_time": "2025-03-07T10:18:28.096363Z"
    }
   },
   "source": [
    "from Bio import SeqIO\n",
    "from transformers import AutoTokenizer\n",
    "import tqdm as notebook_tqdm"
   ],
   "outputs": [],
   "execution_count": 2
  },
  {
   "metadata": {
    "ExecuteTime": {
     "end_time": "2025-03-04T07:26:36.762198Z",
     "start_time": "2025-03-04T07:26:36.746235Z"
    }
   },
   "cell_type": "code",
   "source": [
    "def tokenize_kmers(sequence, k=3):\n",
    "    return [sequence[i:i+k] for i in range(len(sequence) - k + 1)]"
   ],
   "id": "63b49dda29eafffb",
   "outputs": [],
   "execution_count": 3
  },
  {
   "metadata": {
    "ExecuteTime": {
     "end_time": "2025-03-04T07:26:37.191807Z",
     "start_time": "2025-03-04T07:26:37.178131Z"
    }
   },
   "cell_type": "code",
   "source": [
    "def esm_tokenizer(sequence):\n",
    "    tokenizer = AutoTokenizer.from_pretrained(\"facebook/esm2_t6_8M_UR50D\")\n",
    "    return tokenizer(sequence)"
   ],
   "id": "692b55b3752a55ee",
   "outputs": [],
   "execution_count": 4
  },
  {
   "metadata": {
    "ExecuteTime": {
     "end_time": "2025-03-04T07:26:38.003121Z",
     "start_time": "2025-03-04T07:26:37.738151Z"
    }
   },
   "cell_type": "code",
   "source": [
    "def test():\n",
    "    seq = \"MKTLLLTLVVVTIVCLDLGYT\"\n",
    "    tokens = esm_tokenizer(seq)\n",
    "    print(tokens)\n",
    "\n",
    "test()"
   ],
   "id": "2e7c6211681f312f",
   "outputs": [
    {
     "name": "stdout",
     "output_type": "stream",
     "text": [
      "{'input_ids': [0, 20, 15, 11, 4, 4, 4, 11, 4, 7, 7, 7, 11, 12, 7, 23, 4, 13, 4, 6, 19, 11, 2], 'attention_mask': [1, 1, 1, 1, 1, 1, 1, 1, 1, 1, 1, 1, 1, 1, 1, 1, 1, 1, 1, 1, 1, 1, 1]}\n"
     ]
    }
   ],
   "execution_count": 5
  },
  {
   "metadata": {
    "ExecuteTime": {
     "end_time": "2025-03-07T10:18:31.408406Z",
     "start_time": "2025-03-07T10:18:31.184155Z"
    }
   },
   "cell_type": "code",
   "source": [
    "# Define input and output file paths\n",
    "input_fasta = \"C:/Users/tomas/PycharmProjects/mol/gene-biomes/data/uniref50.fasta\"\n",
    "output_txt = \"uniref50_sequences.txt\"\n",
    "\n",
    "# Read the first 1000 sequences from the FASTA file\n",
    "sequences = []\n",
    "for i, record in enumerate(SeqIO.parse(input_fasta, \"fasta\")):\n",
    "    sequences.append(str(record.seq))\n",
    "    if i == 999:\n",
    "        break\n",
    "\n",
    "# Save sequences to a text file (one per line)\n",
    "with open(output_txt, \"w\") as f:\n",
    "    for seq in sequences:\n",
    "        f.write(seq + \"\\n\")\n",
    "\n",
    "print(f\"Saved {len(sequences)} sequences to {output_txt}\")"
   ],
   "id": "35083ba925f86236",
   "outputs": [
    {
     "name": "stdout",
     "output_type": "stream",
     "text": [
      "Saved 1000 sequences to uniref50_sequences.txt\n"
     ]
    }
   ],
   "execution_count": 3
  },
  {
   "metadata": {},
   "cell_type": "code",
   "outputs": [],
   "execution_count": null,
   "source": "",
   "id": "4a950959fce348b4"
  }
 ],
 "metadata": {
  "kernelspec": {
   "display_name": "Python 3",
   "language": "python",
   "name": "python3"
  },
  "language_info": {
   "codemirror_mode": {
    "name": "ipython",
    "version": 2
   },
   "file_extension": ".py",
   "mimetype": "text/x-python",
   "name": "python",
   "nbconvert_exporter": "python",
   "pygments_lexer": "ipython2",
   "version": "2.7.6"
  }
 },
 "nbformat": 4,
 "nbformat_minor": 5
}
