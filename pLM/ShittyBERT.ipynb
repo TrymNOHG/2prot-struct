{
 "cells": [
  {
   "cell_type": "code",
   "id": "initial_id",
   "metadata": {
    "collapsed": true,
    "ExecuteTime": {
     "end_time": "2025-03-04T09:42:05.541246Z",
     "start_time": "2025-03-04T09:42:05.525580Z"
    }
   },
   "source": [
    "import torch\n",
    "import torch.nn as nn\n",
    "from transformers import BertModel, BertConfig\n",
    "from torch.utils.data import DataLoader, Dataset, dataloader\n",
    "import torch.optim as optim\n",
    "from Bio import SeqIO\n",
    "from transformers import AutoTokenizer"
   ],
   "outputs": [],
   "execution_count": 13
  },
  {
   "metadata": {
    "ExecuteTime": {
     "end_time": "2025-03-04T09:42:05.588606Z",
     "start_time": "2025-03-04T09:42:05.574526Z"
    }
   },
   "cell_type": "code",
   "source": [
    "def tokenize_kmers(sequence, k=3):\n",
    "    return [sequence[i:i + k] for i in range(len(sequence) - k + 1)]"
   ],
   "id": "90a43d8734930bd8",
   "outputs": [],
   "execution_count": 14
  },
  {
   "metadata": {
    "ExecuteTime": {
     "end_time": "2025-03-04T09:42:05.604727Z",
     "start_time": "2025-03-04T09:42:05.588606Z"
    }
   },
   "cell_type": "code",
   "source": [
    "def esm_tokenizer(sequences, max_length=512):\n",
    "    tokenizer = AutoTokenizer.from_pretrained(\"facebook/esm2_t6_8M_UR50D\")\n",
    "    tokenized = tokenizer(\n",
    "        sequences,\n",
    "        return_tensors=\"pt\",\n",
    "        padding='max_length',\n",
    "        truncation=True,\n",
    "        max_length=max_length\n",
    "    )\n",
    "    return tokenized['input_ids'], tokenized['attention_mask']"
   ],
   "id": "7b9db8b0b198e43",
   "outputs": [],
   "execution_count": 15
  },
  {
   "metadata": {
    "ExecuteTime": {
     "end_time": "2025-03-04T09:46:06.578361Z",
     "start_time": "2025-03-04T09:46:06.568495Z"
    }
   },
   "cell_type": "code",
   "source": [
    "class ProteinBERT(nn.Module):\n",
    "    def __init__(self, vocab_size, hidden_size=768, num_hidden_layers=12, num_attention_heads=12):\n",
    "        super().__init__()\n",
    "        config = BertConfig(\n",
    "            vocab_size=vocab_size,\n",
    "            hidden_size=hidden_size,\n",
    "            num_hidden_layers=num_hidden_layers,\n",
    "            num_attention_heads=num_attention_heads,\n",
    "            intermediate_size=4 * hidden_size,\n",
    "            max_position_embeddings=1024,\n",
    "            type_vocab_size=1,\n",
    "            pad_token_id=0,\n",
    "        )\n",
    "        self.bert = BertModel(config)\n",
    "        self.mlm_head = nn.Linear(hidden_size, vocab_size)\n",
    "\n",
    "    def forward(self, input_ids, attention_mask):\n",
    "        input_ids = input_ids.squeeze(1)\n",
    "        attention_mask = attention_mask.squeeze(1)\n",
    "        outputs = model(input_ids=input_ids, attention_mask=attention_mask)\n",
    "        last_hidden_state = outputs.last_hidden_state  # This should be a tensor\n",
    "        prediction_scores = model.mlm_head(last_hidden_state)\n",
    "\n",
    "        return prediction_scores, pooled_output"
   ],
   "id": "829cd4f2fc87d417",
   "outputs": [],
   "execution_count": 20
  },
  {
   "metadata": {
    "ExecuteTime": {
     "end_time": "2025-03-04T09:46:06.741822Z",
     "start_time": "2025-03-04T09:46:06.738319Z"
    }
   },
   "cell_type": "code",
   "source": [
    "class ProteinDataset(Dataset):\n",
    "    def __init__(self, sequences, tokenizer, max_length=512):\n",
    "        self.sequences = sequences\n",
    "        self.tokenizer = tokenizer\n",
    "        self.max_length = max_length\n",
    "\n",
    "    def __len__(self):\n",
    "        return len(self.sequences)\n",
    "\n",
    "    def __getitem__(self, idx):\n",
    "        sequence = self.sequences[idx]\n",
    "        input_ids, attention_mask = self.tokenizer(sequence)\n",
    "\n",
    "        return input_ids, attention_mask"
   ],
   "id": "1e9cd68d7d743fa1",
   "outputs": [],
   "execution_count": 21
  },
  {
   "metadata": {
    "jupyter": {
     "is_executing": true
    },
    "ExecuteTime": {
     "start_time": "2025-03-04T09:46:06.897780Z"
    }
   },
   "cell_type": "code",
   "source": [
    "with open(\"uniref50_sequences.txt\") as f:\n",
    "    sequences = [line.strip() for line in f]\n",
    "\n",
    "# Tokenize sequences\n",
    "input_ids, attention_mask = esm_tokenizer(sequences)\n",
    "\n",
    "# Print the first token ID using the tokenizer's decode method\n",
    "tokenizer = AutoTokenizer.from_pretrained(\"facebook/esm2_t6_8M_UR50D\")\n",
    "print(f\"First token ID: {tokenizer.decode(input_ids[0].tolist())}\")\n",
    "\n",
    "# Prepare dataset and dataloader\n",
    "dataset = ProteinDataset(sequences, esm_tokenizer)\n",
    "dataloader = DataLoader(dataset, batch_size=4, shuffle=True)\n",
    "\n",
    "# Initialize model, optimizer, and loss function\n",
    "device = torch.device(\"cpu\")\n",
    "model = ProteinBERT(vocab_size=8000).to(device)\n",
    "optimizer = optim.Adam(model.parameters(), lr=3e-5)\n",
    "criterion = nn.CrossEntropyLoss()\n",
    "\n",
    "# Training loop\n",
    "for epoch in range(3):\n",
    "    for batch in dataloader:\n",
    "        input_ids, attention_mask = batch\n",
    "        input_ids, attention_mask = input_ids.to(device), attention_mask.to(device)\n",
    "\n",
    "        optimizer.zero_grad()\n",
    "\n",
    "        print(f\"Input IDs shape: {input_ids.shape}\")\n",
    "        print(f\"Attention mask shape: {attention_mask.shape}\")\n",
    "\n",
    "        last_hidden_state, pooled_output = model(input_ids, attention_mask)\n",
    "\n",
    "        mask = torch.rand(input_ids.size()).to(device) < 0.15\n",
    "        mask = mask & (input_ids != 0)\n",
    "        labels = torch.where(mask, input_ids, torch.tensor(-100).to(device))\n",
    "\n",
    "        prediction_scores = model.mlm_head(last_hidden_state)\n",
    "\n",
    "        loss = criterion(prediction_scores.view(-1, 8000), labels.view(-1))\n",
    "        loss.backward()\n",
    "        optimizer.step()\n",
    "\n",
    "    print(f\"Epoch {epoch + 1} Loss: {loss.item()}\")\n"
   ],
   "id": "fac6c8346fd896c8",
   "outputs": [
    {
     "name": "stdout",
     "output_type": "stream",
     "text": [
      "First token ID: <cls> M G R I R V W V G T S I P N P V N A H Q L V Y L K G M A K T K K L I L L L F V A A Q P N F K E W S L D V D A S T L V L T F E A N S V L S V K P D C S K V T I H S T A N G V K N V T L T N S G N G T L D A A N D Q A S C T I D A K D L D N I K L E T T L G T N T T N T F L E V K A G F G T K N G T T E F T Q G S P Y T A A A L V T P D V T A P E I S A T V G F S E F D L N S G R V T I A F T E A V D V S T L K F T K L A F R D A K L T G K T S T T G Y C N V T K D G K C D A A F C K N G A T V V L E V D N V D L N C I K S K R G L C T K D S D C I I T L E E D D F I Q D M A G N K L G K Y E S G T T A N A A E T L L H K F V P D I T S P T L D N F D L D L N A N T L T L E F S E T V D A K T L K A D G L T I Q G N G N T A D V S L Q V K L T S E S T T E S S D S A T I I V D I A P A D G A K L K M S T N I A T K T G D S Y I A V A T S A M N D M S G N A V K P I S S T A A K Q V R R F T N D T S A A V L S K F S L D L N T N Q L T L T F D E P V K V D S L N F T L F T L Q S T A A G G T E V K L T G S T T M T T G T V R E V V V D L S E A A L V S I K S N V T <eos>\n"
     ]
    }
   ],
   "execution_count": null
  },
  {
   "metadata": {
    "ExecuteTime": {
     "end_time": "2025-03-04T09:42:05.667862300Z",
     "start_time": "2025-03-03T15:50:46.840496Z"
    }
   },
   "cell_type": "code",
   "source": "",
   "id": "5a8807517845a3d8",
   "outputs": [],
   "execution_count": null
  },
  {
   "metadata": {},
   "cell_type": "code",
   "outputs": [],
   "execution_count": null,
   "source": "",
   "id": "2b98c7a5aa49a938"
  }
 ],
 "metadata": {
  "kernelspec": {
   "display_name": "Python 3",
   "language": "python",
   "name": "python3"
  },
  "language_info": {
   "codemirror_mode": {
    "name": "ipython",
    "version": 2
   },
   "file_extension": ".py",
   "mimetype": "text/x-python",
   "name": "python",
   "nbconvert_exporter": "python",
   "pygments_lexer": "ipython2",
   "version": "2.7.6"
  }
 },
 "nbformat": 4,
 "nbformat_minor": 5
}
